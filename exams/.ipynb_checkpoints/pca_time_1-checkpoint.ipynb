{
 "cells": [
  {
   "cell_type": "code",
   "execution_count": 1,
   "id": "fuzzy-bumper",
   "metadata": {},
   "outputs": [
    {
     "name": "stdout",
     "output_type": "stream",
     "text": [
      "Requirement already satisfied: mne in /home/sebastian/.local/lib/python3.8/site-packages (0.22.0)\n",
      "Requirement already satisfied: numpy>=1.11.3 in /home/sebastian/.local/lib/python3.8/site-packages (from mne) (1.19.5)\n",
      "Requirement already satisfied: scipy>=0.17.1 in /home/sebastian/.local/lib/python3.8/site-packages (from mne) (1.6.0)\n",
      "Note: you may need to restart the kernel to use updated packages.\n"
     ]
    }
   ],
   "source": [
    "pip install mne"
   ]
  },
  {
   "cell_type": "code",
   "execution_count": 1,
   "id": "paperback-rugby",
   "metadata": {},
   "outputs": [],
   "source": [
    "import mne\n",
    "import matplotlib.pyplot as plt\n",
    "import numpy as np\n",
    "import re\n",
    "\n",
    "from sklearn.decomposition import PCA"
   ]
  },
  {
   "cell_type": "code",
   "execution_count": 2,
   "id": "talented-adobe",
   "metadata": {},
   "outputs": [
    {
     "name": "stdout",
     "output_type": "stream",
     "text": [
      "Extracting EDF parameters from /home/sebastian/Documentos/Tesis/examenes/enfermos/00001819_s004_t000.edf...\n",
      "EDF file detected\n",
      "Setting channel info structure...\n",
      "Creating raw.info structure...\n",
      "Reading 0 ... 797183  =      0.000 ...  1556.998 secs...\n"
     ]
    }
   ],
   "source": [
    "datos_edf = mne.io.read_raw_edf(\n",
    "        \"/home/sebastian/Documentos/Tesis/examenes/enfermos/00001819_s004_t000.edf\", \n",
    "        preload=True, \n",
    "        stim_channel=None\n",
    ")"
   ]
  },
  {
   "cell_type": "code",
   "execution_count": 3,
   "id": "surprised-crash",
   "metadata": {},
   "outputs": [
    {
     "data": {
      "text/plain": [
       "<Info | 7 non-empty values\n",
       " bads: []\n",
       " ch_names: EEG FP1-REF, EEG FP2-REF, EEG F3-REF, EEG F4-REF, EEG C3-REF, ...\n",
       " chs: 34 EEG\n",
       " custom_ref_applied: False\n",
       " highpass: 0.0 Hz\n",
       " lowpass: 256.0 Hz\n",
       " meas_date: 2012-05-01 16:48:12 UTC\n",
       " nchan: 34\n",
       " projs: []\n",
       " sfreq: 512.0 Hz\n",
       ">"
      ]
     },
     "execution_count": 3,
     "metadata": {},
     "output_type": "execute_result"
    }
   ],
   "source": [
    "datos_edf.info"
   ]
  },
  {
   "cell_type": "code",
   "execution_count": 4,
   "id": "crazy-monday",
   "metadata": {},
   "outputs": [],
   "source": [
    "match_regex = lambda channel_name : re.compile(r'(P|F|O|T|C)').search(channel_name)\n",
    "list_channels = list(\n",
    "        filter(\n",
    "            lambda channel_name : len(channel_name) > 4 and channel_name[0:3] == \"EEG\", \n",
    "            datos_edf.info[\"ch_names\"]\n",
    "        )\n",
    "    )\n",
    "list_channels = [channel for channel in list_channels if match_regex(channel[4])]"
   ]
  },
  {
   "cell_type": "code",
   "execution_count": 5,
   "id": "general-latitude",
   "metadata": {},
   "outputs": [
    {
     "data": {
      "text/plain": [
       "21"
      ]
     },
     "execution_count": 5,
     "metadata": {},
     "output_type": "execute_result"
    }
   ],
   "source": [
    "len(list_channels[0:21])"
   ]
  },
  {
   "cell_type": "code",
   "execution_count": 28,
   "id": "creative-thought",
   "metadata": {},
   "outputs": [],
   "source": [
    "get_data_channel = lambda channel_name, eeg_data : eeg_data[eeg_data.ch_names.index(channel_name)][0][0]"
   ]
  },
  {
   "cell_type": "code",
   "execution_count": 7,
   "id": "blank-glucose",
   "metadata": {},
   "outputs": [],
   "source": [
    "eeg_arr = np.empty((331250, 21))"
   ]
  },
  {
   "cell_type": "code",
   "execution_count": 8,
   "id": "closed-emerald",
   "metadata": {},
   "outputs": [],
   "source": [
    "x = [get_data_channel(channel) for channel in list_channels]"
   ]
  },
  {
   "cell_type": "code",
   "execution_count": 9,
   "id": "comfortable-mineral",
   "metadata": {},
   "outputs": [],
   "source": [
    "eeg_arr = np.array(x[0:1][:])"
   ]
  },
  {
   "cell_type": "code",
   "execution_count": 10,
   "id": "collective-company",
   "metadata": {},
   "outputs": [
    {
     "data": {
      "text/plain": [
       "(1, 797184)"
      ]
     },
     "execution_count": 10,
     "metadata": {},
     "output_type": "execute_result"
    }
   ],
   "source": [
    "eeg_arr.shape"
   ]
  },
  {
   "cell_type": "code",
   "execution_count": 11,
   "id": "rotary-jonathan",
   "metadata": {},
   "outputs": [],
   "source": [
    "eeg_arr = np.append(eeg_arr, x[1:][:], axis=0)"
   ]
  },
  {
   "cell_type": "code",
   "execution_count": 12,
   "id": "behavioral-backup",
   "metadata": {},
   "outputs": [
    {
     "data": {
      "text/plain": [
       "(23, 797184)"
      ]
     },
     "execution_count": 12,
     "metadata": {},
     "output_type": "execute_result"
    }
   ],
   "source": [
    "eeg_arr.shape"
   ]
  },
  {
   "cell_type": "code",
   "execution_count": 13,
   "id": "applied-dining",
   "metadata": {},
   "outputs": [
    {
     "data": {
      "text/plain": [
       "PCA(n_components=21)"
      ]
     },
     "execution_count": 13,
     "metadata": {},
     "output_type": "execute_result"
    }
   ],
   "source": [
    "pca = PCA(n_components=21)\n",
    "pca.fit(eeg_arr)"
   ]
  },
  {
   "cell_type": "code",
   "execution_count": 14,
   "id": "oriental-figure",
   "metadata": {},
   "outputs": [
    {
     "name": "stdout",
     "output_type": "stream",
     "text": [
      "features: 797184, samples: 23, components: 21\n"
     ]
    }
   ],
   "source": [
    "print(f\"features: {pca.n_features_}, samples: {pca.n_samples_}, components: {pca.n_components_}\")"
   ]
  },
  {
   "cell_type": "code",
   "execution_count": 15,
   "id": "organic-milan",
   "metadata": {},
   "outputs": [
    {
     "data": {
      "text/plain": [
       "array([8.38464072e+01, 5.58014912e+00, 5.07531711e+00, 2.56948175e+00,\n",
       "       8.13194197e-01, 7.15112198e-01, 5.38362699e-01, 3.16210261e-01,\n",
       "       1.34581347e-01, 9.15086178e-02, 7.84727235e-02, 7.28517304e-02,\n",
       "       4.45024668e-02, 2.23118361e-02, 2.15608459e-02, 1.94621398e-02,\n",
       "       1.57319840e-02, 1.35616923e-02, 9.64158570e-03, 8.62216932e-03,\n",
       "       8.05942754e-03])"
      ]
     },
     "execution_count": 15,
     "metadata": {},
     "output_type": "execute_result"
    }
   ],
   "source": [
    "pca.explained_variance_ratio_ * 100"
   ]
  },
  {
   "cell_type": "code",
   "execution_count": 16,
   "id": "regulation-rubber",
   "metadata": {},
   "outputs": [
    {
     "data": {
      "text/plain": [
       "(23, 21)"
      ]
     },
     "execution_count": 16,
     "metadata": {},
     "output_type": "execute_result"
    }
   ],
   "source": [
    "eeg_arr_transformed= pca.transform(eeg_arr)\n",
    "eeg_arr_transformed.shape"
   ]
  },
  {
   "cell_type": "code",
   "execution_count": 17,
   "id": "psychological-heaven",
   "metadata": {},
   "outputs": [],
   "source": [
    "import matplotlib.pyplot as plt"
   ]
  },
  {
   "cell_type": "code",
   "execution_count": 18,
   "id": "crazy-negotiation",
   "metadata": {},
   "outputs": [
    {
     "data": {
      "image/png": "[encoded data removed]",
      "text/plain": [
       "<Figure size 432x288 with 1 Axes>"
      ]
     },
     "metadata": {
      "needs_background": "light"
     },
     "output_type": "display_data"
    }
   ],
   "source": [
    "plt.plot(np.cumsum(pca.explained_variance_ratio_))\n",
    "plt.xlabel('components')\n",
    "plt.ylabel('explained variance')\n",
    "plt.show()"
   ]
  },
  {
   "cell_type": "code",
   "execution_count": 23,
   "id": "naughty-spirituality",
   "metadata": {},
   "outputs": [],
   "source": [
    "def get_channels_by_edf(edf_data):\n",
    "    \n",
    "    edf_data = mne.io.read_raw_edf(\n",
    "            edf_data, \n",
    "            preload=True, \n",
    "            stim_channel=None,\n",
    "            verbose=False\n",
    "    )\n",
    "    match_regex = lambda channel_name : re.compile(r'(P|F|O|T|C)').search(channel_name)\n",
    "    list_channels = list(\n",
    "            filter(\n",
    "                lambda channel_name : len(channel_name) > 4 and channel_name[0:3] == \"EEG\", \n",
    "                edf_data.info[\"ch_names\"]\n",
    "            )\n",
    "        )\n",
    "    list_channels = [channel for channel in list_channels if match_regex(channel[4])]\n",
    "    get_data_channel = lambda channel_name : edf_data[edf_data.ch_names.index(channel_name)][0][0]\n",
    "    return [get_data_channel(channel) for channel in list_channels[0:21]]"
   ]
  },
  {
   "cell_type": "code",
   "execution_count": 24,
   "id": "concrete-simon",
   "metadata": {},
   "outputs": [],
   "source": [
    "import os\n",
    "import numpy as np\n",
    "from collections import deque\n",
    "\n",
    "exam_type = \"~/Documentos/Tesis/examenes/enfermos/\"\n",
    "\n",
    "pca_vs_time = []\n",
    "\n",
    "def process_exam(path_files, shape):\n",
    "    all_eeg_exams = np.empty(shape)\n",
    "    for file in os.listdir(f\"{path_files}\"):\n",
    "        if file.endswith(\".edf\"):\n",
    "            complete_file_path = f\"{path_files}/{file}\"\n",
    "            channels_by_edf = get_channels_by_edf(complete_file_path)\n",
    "            eeg_in_np_arr = np.array(channels_by_edf)\n",
    "            print(f\"original shape: {eeg_in_np_arr.shape}\")\n",
    "            x = eeg_in_np_arr.shape[1]\n",
    "            pca = PCA(n_components=.99)\n",
    "            eeg_in_np_arr = pca.fit_transform(eeg_in_np_arr)\n",
    "            print(f\"new shape: {eeg_in_np_arr.shape}\")\n",
    "            pca_vs_time.append((x, eeg_in_np_arr.shape[1]))\n",
    "            #all_eeg_exams = np.append(all_eeg_exams,eeg_in_np_arr, axis=0)\n",
    "            print(complete_file_path, \"processed\")\n",
    "            #print(all_eeg_exams)\n",
    "    #return all_eeg_exams"
   ]
  },
  {
   "cell_type": "code",
   "execution_count": 25,
   "id": "suspected-residence",
   "metadata": {},
   "outputs": [
    {
     "name": "stdout",
     "output_type": "stream",
     "text": [
      "original shape: (21, 286500)\n",
      "new shape: (21, 14)\n",
      "/home/sebastian/Documentos/Tesis/examenes/sanos/00008950_s001_t001.edf processed\n",
      "original shape: (21, 296500)\n",
      "new shape: (21, 17)\n",
      "/home/sebastian/Documentos/Tesis/examenes/sanos/00006801_s001_t001.edf processed\n",
      "original shape: (21, 375750)\n",
      "new shape: (21, 11)\n",
      "/home/sebastian/Documentos/Tesis/examenes/sanos/00009147_s001_t000.edf processed\n",
      "original shape: (21, 319250)\n",
      "new shape: (21, 8)\n",
      "/home/sebastian/Documentos/Tesis/examenes/sanos/00007732_s001_t000.edf processed\n",
      "original shape: (21, 540000)\n",
      "new shape: (21, 9)\n",
      "/home/sebastian/Documentos/Tesis/examenes/sanos/00007331_s001_t000.edf processed\n",
      "original shape: (21, 321750)\n",
      "new shape: (21, 16)\n",
      "/home/sebastian/Documentos/Tesis/examenes/sanos/00007671_s001_t000.edf processed\n",
      "original shape: (21, 510750)\n",
      "new shape: (21, 16)\n",
      "/home/sebastian/Documentos/Tesis/examenes/sanos/00010617_s001_t002.edf processed\n",
      "original shape: (21, 367000)\n",
      "new shape: (21, 8)\n",
      "/home/sebastian/Documentos/Tesis/examenes/sanos/00008249_s001_t000.edf processed\n",
      "original shape: (21, 299250)\n",
      "new shape: (21, 17)\n",
      "/home/sebastian/Documentos/Tesis/examenes/sanos/00006906_s001_t001.edf processed\n",
      "original shape: (21, 330750)\n",
      "new shape: (21, 15)\n",
      "/home/sebastian/Documentos/Tesis/examenes/sanos/00009333_s001_t000.edf processed\n",
      "original shape: (21, 346500)\n",
      "new shape: (21, 15)\n",
      "/home/sebastian/Documentos/Tesis/examenes/sanos/00009853_s001_t000.edf processed\n",
      "original shape: (21, 396750)\n",
      "new shape: (21, 15)\n",
      "/home/sebastian/Documentos/Tesis/examenes/sanos/00009910_s001_t000.edf processed\n",
      "original shape: (21, 304250)\n",
      "new shape: (21, 9)\n",
      "/home/sebastian/Documentos/Tesis/examenes/sanos/00008576_s001_t000.edf processed\n",
      "original shape: (21, 307968)\n",
      "new shape: (21, 11)\n",
      "/home/sebastian/Documentos/Tesis/examenes/sanos/00005459_s001_t000.edf processed\n",
      "original shape: (21, 313250)\n",
      "new shape: (21, 14)\n",
      "/home/sebastian/Documentos/Tesis/examenes/sanos/00010501_s001_t001.edf processed\n",
      "original shape: (21, 317750)\n",
      "new shape: (21, 15)\n",
      "/home/sebastian/Documentos/Tesis/examenes/sanos/00009710_s001_t000.edf processed\n",
      "original shape: (21, 297500)\n",
      "new shape: (21, 6)\n",
      "/home/sebastian/Documentos/Tesis/examenes/sanos/00002744_s002_t002.edf processed\n",
      "original shape: (21, 297000)\n",
      "new shape: (21, 16)\n",
      "/home/sebastian/Documentos/Tesis/examenes/sanos/00003612_s002_t001.edf processed\n",
      "original shape: (21, 175750)\n",
      "new shape: (21, 7)\n",
      "/home/sebastian/Documentos/Tesis/examenes/sanos/00010736_s001_t000.edf processed\n",
      "original shape: (21, 313000)\n",
      "new shape: (21, 16)\n",
      "/home/sebastian/Documentos/Tesis/examenes/sanos/00009002_s001_t000.edf processed\n"
     ]
    }
   ],
   "source": [
    "X = process_exam(\"/home/sebastian/Documentos/Tesis/examenes/sanos\", (0, 797184))"
   ]
  },
  {
   "cell_type": "code",
   "execution_count": 32,
   "id": "norwegian-messenger",
   "metadata": {},
   "outputs": [
    {
     "data": {
      "text/plain": [
       "(420, 797184)"
      ]
     },
     "execution_count": 32,
     "metadata": {},
     "output_type": "execute_result"
    }
   ],
   "source": [
    "X.shape"
   ]
  },
  {
   "cell_type": "code",
   "execution_count": 18,
   "id": "coordinate-mirror",
   "metadata": {},
   "outputs": [
    {
     "name": "stdout",
     "output_type": "stream",
     "text": [
      "Extracting EDF parameters from /home/sebastian/Documentos/Tesis/examenes/enfermos/00010270_s003_t000.edf...\n",
      "EDF file detected\n",
      "Setting channel info structure...\n",
      "Creating raw.info structure...\n",
      "Reading 0 ... 2183167  =      0.000 ...  8527.996 secs...\n",
      "original shape: (21, 2183168)\n",
      "new shape: (21, 11)\n",
      "/home/sebastian/Documentos/Tesis/examenes/enfermos/00010270_s003_t000.edf processed\n",
      "Extracting EDF parameters from /home/sebastian/Documentos/Tesis/examenes/enfermos/00010590_s001_t000.edf...\n",
      "EDF file detected\n",
      "Setting channel info structure...\n",
      "Creating raw.info structure...\n",
      "Reading 0 ... 322749  =      0.000 ...  1290.996 secs...\n",
      "original shape: (21, 322750)\n",
      "new shape: (21, 5)\n",
      "/home/sebastian/Documentos/Tesis/examenes/enfermos/00010590_s001_t000.edf processed\n",
      "Extracting EDF parameters from /home/sebastian/Documentos/Tesis/examenes/enfermos/00000767_s002_t001.edf...\n",
      "EDF file detected\n",
      "Setting channel info structure...\n",
      "Creating raw.info structure...\n",
      "Reading 0 ... 331999  =      0.000 ...  1327.996 secs...\n",
      "original shape: (21, 332000)\n",
      "new shape: (21, 10)\n",
      "/home/sebastian/Documentos/Tesis/examenes/enfermos/00000767_s002_t001.edf processed\n",
      "Extracting EDF parameters from /home/sebastian/Documentos/Tesis/examenes/enfermos/00010138_s001_t000.edf...\n",
      "EDF file detected\n",
      "Setting channel info structure...\n",
      "Creating raw.info structure...\n",
      "Reading 0 ... 375749  =      0.000 ...  1502.996 secs...\n",
      "original shape: (21, 375750)\n",
      "new shape: (21, 8)\n",
      "/home/sebastian/Documentos/Tesis/examenes/enfermos/00010138_s001_t000.edf processed\n",
      "Extracting EDF parameters from /home/sebastian/Documentos/Tesis/examenes/enfermos/00010412_s001_t000.edf...\n",
      "EDF file detected\n",
      "Setting channel info structure...\n",
      "Creating raw.info structure...\n",
      "Reading 0 ... 382249  =      0.000 ...  1528.996 secs...\n",
      "original shape: (21, 382250)\n",
      "new shape: (21, 7)\n",
      "/home/sebastian/Documentos/Tesis/examenes/enfermos/00010412_s001_t000.edf processed\n",
      "Extracting EDF parameters from /home/sebastian/Documentos/Tesis/examenes/enfermos/00000592_s005_t000.edf...\n",
      "EDF file detected\n",
      "Setting channel info structure...\n",
      "Creating raw.info structure...\n",
      "Reading 0 ... 384749  =      0.000 ...  1538.996 secs...\n",
      "original shape: (21, 384750)\n",
      "new shape: (21, 6)\n",
      "/home/sebastian/Documentos/Tesis/examenes/enfermos/00000592_s005_t000.edf processed\n",
      "Extracting EDF parameters from /home/sebastian/Documentos/Tesis/examenes/enfermos/00003005_s004_t001.edf...\n",
      "EDF file detected\n",
      "Setting channel info structure...\n",
      "Creating raw.info structure...\n",
      "Reading 0 ... 296249  =      0.000 ...  1184.996 secs...\n",
      "original shape: (21, 296250)\n",
      "new shape: (21, 9)\n",
      "/home/sebastian/Documentos/Tesis/examenes/enfermos/00003005_s004_t001.edf processed\n",
      "Extracting EDF parameters from /home/sebastian/Documentos/Tesis/examenes/enfermos/00006894_s003_t000.edf...\n",
      "EDF file detected\n",
      "Setting channel info structure...\n",
      "Creating raw.info structure...\n",
      "Reading 0 ... 301999  =      0.000 ...  1207.996 secs...\n",
      "original shape: (21, 302000)\n",
      "new shape: (21, 4)\n",
      "/home/sebastian/Documentos/Tesis/examenes/enfermos/00006894_s003_t000.edf processed\n",
      "Extracting EDF parameters from /home/sebastian/Documentos/Tesis/examenes/enfermos/00000355_s003_t000.edf...\n",
      "EDF file detected\n",
      "Setting channel info structure...\n",
      "Creating raw.info structure...\n",
      "Reading 0 ... 331249  =      0.000 ...  1324.996 secs...\n",
      "original shape: (21, 331250)\n",
      "new shape: (21, 13)\n",
      "/home/sebastian/Documentos/Tesis/examenes/enfermos/00000355_s003_t000.edf processed\n",
      "Extracting EDF parameters from /home/sebastian/Documentos/Tesis/examenes/enfermos/00001819_s004_t000.edf...\n",
      "EDF file detected\n",
      "Setting channel info structure...\n",
      "Creating raw.info structure...\n",
      "Reading 0 ... 797183  =      0.000 ...  1556.998 secs...\n",
      "original shape: (21, 797184)\n",
      "new shape: (21, 6)\n",
      "/home/sebastian/Documentos/Tesis/examenes/enfermos/00001819_s004_t000.edf processed\n",
      "Extracting EDF parameters from /home/sebastian/Documentos/Tesis/examenes/enfermos/00003136_s004_t000.edf...\n",
      "EDF file detected\n",
      "Setting channel info structure...\n",
      "Creating raw.info structure...\n",
      "Reading 0 ... 300999  =      0.000 ...  1203.996 secs...\n",
      "original shape: (21, 301000)\n",
      "new shape: (21, 6)\n",
      "/home/sebastian/Documentos/Tesis/examenes/enfermos/00003136_s004_t000.edf processed\n",
      "Extracting EDF parameters from /home/sebastian/Documentos/Tesis/examenes/enfermos/00003593_s004_t000.edf...\n",
      "EDF file detected\n",
      "Setting channel info structure...\n",
      "Creating raw.info structure...\n",
      "Reading 0 ... 324249  =      0.000 ...  1296.996 secs...\n",
      "original shape: (21, 324250)\n",
      "new shape: (21, 8)\n",
      "/home/sebastian/Documentos/Tesis/examenes/enfermos/00003593_s004_t000.edf processed\n",
      "Extracting EDF parameters from /home/sebastian/Documentos/Tesis/examenes/enfermos/00008476_s003_t003.edf...\n",
      "EDF file detected\n",
      "Setting channel info structure...\n",
      "Creating raw.info structure...\n",
      "Reading 0 ... 76799  =      0.000 ...   299.996 secs...\n",
      "original shape: (21, 76800)\n",
      "new shape: (21, 6)\n",
      "/home/sebastian/Documentos/Tesis/examenes/enfermos/00008476_s003_t003.edf processed\n",
      "Extracting EDF parameters from /home/sebastian/Documentos/Tesis/examenes/enfermos/00000930_s002_t000.edf...\n",
      "EDF file detected\n",
      "Setting channel info structure...\n",
      "Creating raw.info structure...\n",
      "Reading 0 ... 324999  =      0.000 ...  1299.996 secs...\n",
      "original shape: (21, 325000)\n",
      "new shape: (21, 1)\n",
      "/home/sebastian/Documentos/Tesis/examenes/enfermos/00000930_s002_t000.edf processed\n",
      "Extracting EDF parameters from /home/sebastian/Documentos/Tesis/examenes/enfermos/00000883_s002_t000.edf...\n",
      "EDF file detected\n",
      "Setting channel info structure...\n",
      "Creating raw.info structure...\n",
      "Reading 0 ... 400249  =      0.000 ...  1600.996 secs...\n",
      "original shape: (21, 400250)\n",
      "new shape: (21, 7)\n",
      "/home/sebastian/Documentos/Tesis/examenes/enfermos/00000883_s002_t000.edf processed\n",
      "Extracting EDF parameters from /home/sebastian/Documentos/Tesis/examenes/enfermos/00003281_s002_t000.edf...\n",
      "EDF file detected\n",
      "Setting channel info structure...\n",
      "Creating raw.info structure...\n",
      "Reading 0 ... 364249  =      0.000 ...  1456.996 secs...\n",
      "original shape: (21, 364250)\n",
      "new shape: (21, 7)\n",
      "/home/sebastian/Documentos/Tesis/examenes/enfermos/00003281_s002_t000.edf processed\n",
      "Extracting EDF parameters from /home/sebastian/Documentos/Tesis/examenes/enfermos/00010052_s004_t002.edf...\n",
      "EDF file detected\n",
      "Setting channel info structure...\n",
      "Creating raw.info structure...\n",
      "Reading 0 ... 153855  =      0.000 ...   600.996 secs...\n",
      "original shape: (21, 153856)\n",
      "new shape: (21, 7)\n",
      "/home/sebastian/Documentos/Tesis/examenes/enfermos/00010052_s004_t002.edf processed\n",
      "Extracting EDF parameters from /home/sebastian/Documentos/Tesis/examenes/enfermos/00009151_s001_t000.edf...\n",
      "EDF file detected\n",
      "Setting channel info structure...\n",
      "Creating raw.info structure...\n",
      "Reading 0 ... 601749  =      0.000 ...  2406.996 secs...\n",
      "original shape: (21, 601750)\n",
      "new shape: (21, 7)\n",
      "/home/sebastian/Documentos/Tesis/examenes/enfermos/00009151_s001_t000.edf processed\n",
      "Extracting EDF parameters from /home/sebastian/Documentos/Tesis/examenes/enfermos/00010347_s001_t000.edf...\n",
      "EDF file detected\n",
      "Setting channel info structure...\n",
      "Creating raw.info structure...\n",
      "Reading 0 ... 316749  =      0.000 ...  1266.996 secs...\n",
      "original shape: (21, 316750)\n",
      "new shape: (21, 8)\n",
      "/home/sebastian/Documentos/Tesis/examenes/enfermos/00010347_s001_t000.edf processed\n",
      "Extracting EDF parameters from /home/sebastian/Documentos/Tesis/examenes/enfermos/00009992_s002_t001.edf...\n",
      "EDF file detected\n",
      "Setting channel info structure...\n",
      "Creating raw.info structure...\n",
      "Reading 0 ... 344499  =      0.000 ...  1377.996 secs...\n",
      "original shape: (21, 344500)\n",
      "new shape: (21, 8)\n",
      "/home/sebastian/Documentos/Tesis/examenes/enfermos/00009992_s002_t001.edf processed\n"
     ]
    }
   ],
   "source": [
    "Y = process_exam(\"/home/sebastian/Documentos/Tesis/examenes/enfermos\",(0, 797184))"
   ]
  },
  {
   "cell_type": "code",
   "execution_count": 21,
   "id": "special-genealogy",
   "metadata": {},
   "outputs": [
    {
     "data": {
      "text/plain": [
       "2.3686111111111114"
      ]
     },
     "execution_count": 21,
     "metadata": {},
     "output_type": "execute_result"
    }
   ],
   "source": [
    "8527/60/60"
   ]
  }
 ],
 "metadata": {
  "kernelspec": {
   "display_name": "Python 3",
   "language": "python",
   "name": "python3"
  },
  "language_info": {
   "codemirror_mode": {
    "name": "ipython",
    "version": 3
   },
   "file_extension": ".py",
   "mimetype": "text/x-python",
   "name": "python",
   "nbconvert_exporter": "python",
   "pygments_lexer": "ipython3",
   "version": "3.8.5"
  }
 },
 "nbformat": 4,
 "nbformat_minor": 5
}
