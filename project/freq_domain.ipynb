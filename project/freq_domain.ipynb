{
 "cells": [
  {
   "cell_type": "code",
   "execution_count": 1,
   "id": "antique-lawrence",
   "metadata": {},
   "outputs": [],
   "source": [
    "from eeg.domains import FreqDomain\n",
    "from eeg.eeg_exam import EEGexam\n",
    "\n",
    "import numpy as np"
   ]
  },
  {
   "cell_type": "code",
   "execution_count": 2,
   "id": "defensive-organizer",
   "metadata": {},
   "outputs": [],
   "source": [
    "# Epileptic"
   ]
  },
  {
   "cell_type": "code",
   "execution_count": 2,
   "id": "developed-lotus",
   "metadata": {},
   "outputs": [
    {
     "name": "stdout",
     "output_type": "stream",
     "text": [
      "Extracting EDF parameters from /home/sebastian/Documentos/Proyectos/python/eeg-classification/exams/epileptic/00000355_s003_t000.edf...\n",
      "EDF file detected\n",
      "Setting channel info structure...\n",
      "Creating raw.info structure...\n",
      "Reading 0 ... 331249  =      0.000 ...  1324.996 secs...\n"
     ]
    },
    {
     "data": {
      "text/plain": [
       "['EEG FP1-REF',\n",
       " 'EEG FP2-REF',\n",
       " 'EEG F3-REF',\n",
       " 'EEG F4-REF',\n",
       " 'EEG C3-REF',\n",
       " 'EEG C4-REF',\n",
       " 'EEG P3-REF',\n",
       " 'EEG P4-REF',\n",
       " 'EEG O1-REF',\n",
       " 'EEG O2-REF',\n",
       " 'EEG F7-REF',\n",
       " 'EEG F8-REF',\n",
       " 'EEG T3-REF',\n",
       " 'EEG T4-REF',\n",
       " 'EEG T5-REF',\n",
       " 'EEG T6-REF',\n",
       " 'EEG A1-REF',\n",
       " 'EEG A2-REF',\n",
       " 'EEG FZ-REF',\n",
       " 'EEG CZ-REF',\n",
       " 'EEG PZ-REF']"
      ]
     },
     "execution_count": 2,
     "metadata": {},
     "output_type": "execute_result"
    }
   ],
   "source": [
    "path = \"../exams/epileptic/00000355_s003_t000.edf\"\n",
    "eeg_epileptic_exam = EEGexam(path)\n",
    "eeg_epileptic_exam.channels"
   ]
  },
  {
   "cell_type": "code",
   "execution_count": 3,
   "id": "civic-gardening",
   "metadata": {},
   "outputs": [],
   "source": [
    "fp1_channel = eeg_epileptic_exam.channels[0]\n",
    "epileptic_data = eeg_epileptic_exam.get_channel_data(fp1_channel)"
   ]
  },
  {
   "cell_type": "code",
   "execution_count": 4,
   "id": "spectacular-richards",
   "metadata": {},
   "outputs": [
    {
     "data": {
      "text/plain": [
       "[[0.35145012111924995,\n",
       "  0.06677316105284817,\n",
       "  0.07214863346055969,\n",
       "  0.030012096877862493,\n",
       "  1]]"
      ]
     },
     "execution_count": 4,
     "metadata": {},
     "output_type": "execute_result"
    }
   ],
   "source": [
    "freq_domain = FreqDomain(epileptic_data)\n",
    "freq_domain.freq_bands(eeg_epileptic_exam.freq)"
   ]
  }
 ],
 "metadata": {
  "kernelspec": {
   "display_name": "Python 3",
   "language": "python",
   "name": "python3"
  },
  "language_info": {
   "codemirror_mode": {
    "name": "ipython",
    "version": 3
   },
   "file_extension": ".py",
   "mimetype": "text/x-python",
   "name": "python",
   "nbconvert_exporter": "python",
   "pygments_lexer": "ipython3",
   "version": "3.8.5"
  }
 },
 "nbformat": 4,
 "nbformat_minor": 5
}
