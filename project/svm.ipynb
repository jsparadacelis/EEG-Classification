{
 "cells": [
  {
   "cell_type": "code",
   "execution_count": 1,
   "id": "soviet-stage",
   "metadata": {},
   "outputs": [],
   "source": [
    "import numpy\n",
    "import pandas as pd\n",
    "\n",
    "from sklearn.model_selection import train_test_split\n",
    "from sklearn import metrics, preprocessing, svm\n",
    "\n",
    "import seaborn as sb\n",
    "import matplotlib.pyplot as plt\n",
    "import matplotlib as mpl\n",
    "\n",
    "from sklearn.pipeline import make_pipeline"
   ]
  },
  {
   "cell_type": "code",
   "execution_count": 2,
   "id": "corresponding-torture",
   "metadata": {},
   "outputs": [
    {
     "data": {
      "text/html": [
       "<div>\n",
       "<style scoped>\n",
       "    .dataframe tbody tr th:only-of-type {\n",
       "        vertical-align: middle;\n",
       "    }\n",
       "\n",
       "    .dataframe tbody tr th {\n",
       "        vertical-align: top;\n",
       "    }\n",
       "\n",
       "    .dataframe thead th {\n",
       "        text-align: right;\n",
       "    }\n",
       "</style>\n",
       "<table border=\"1\" class=\"dataframe\">\n",
       "  <thead>\n",
       "    <tr style=\"text-align: right;\">\n",
       "      <th></th>\n",
       "      <th>delta</th>\n",
       "      <th>tetha</th>\n",
       "      <th>alpha</th>\n",
       "      <th>beta</th>\n",
       "      <th>gamma</th>\n",
       "      <th>class</th>\n",
       "    </tr>\n",
       "  </thead>\n",
       "  <tbody>\n",
       "    <tr>\n",
       "      <th>0</th>\n",
       "      <td>0.190776</td>\n",
       "      <td>0.058923</td>\n",
       "      <td>0.129363</td>\n",
       "      <td>0.029849</td>\n",
       "      <td>0.012989</td>\n",
       "      <td>1</td>\n",
       "    </tr>\n",
       "    <tr>\n",
       "      <th>1</th>\n",
       "      <td>0.182318</td>\n",
       "      <td>0.095967</td>\n",
       "      <td>0.110752</td>\n",
       "      <td>0.049693</td>\n",
       "      <td>0.046891</td>\n",
       "      <td>1</td>\n",
       "    </tr>\n",
       "    <tr>\n",
       "      <th>2</th>\n",
       "      <td>0.183269</td>\n",
       "      <td>0.079512</td>\n",
       "      <td>0.116541</td>\n",
       "      <td>0.048885</td>\n",
       "      <td>0.049781</td>\n",
       "      <td>1</td>\n",
       "    </tr>\n",
       "    <tr>\n",
       "      <th>3</th>\n",
       "      <td>0.351450</td>\n",
       "      <td>0.066773</td>\n",
       "      <td>0.072149</td>\n",
       "      <td>0.030012</td>\n",
       "      <td>0.021886</td>\n",
       "      <td>1</td>\n",
       "    </tr>\n",
       "    <tr>\n",
       "      <th>4</th>\n",
       "      <td>0.242536</td>\n",
       "      <td>0.101548</td>\n",
       "      <td>0.174173</td>\n",
       "      <td>0.047890</td>\n",
       "      <td>0.026310</td>\n",
       "      <td>1</td>\n",
       "    </tr>\n",
       "  </tbody>\n",
       "</table>\n",
       "</div>"
      ],
      "text/plain": [
       "      delta     tetha     alpha      beta     gamma  class\n",
       "0  0.190776  0.058923  0.129363  0.029849  0.012989      1\n",
       "1  0.182318  0.095967  0.110752  0.049693  0.046891      1\n",
       "2  0.183269  0.079512  0.116541  0.048885  0.049781      1\n",
       "3  0.351450  0.066773  0.072149  0.030012  0.021886      1\n",
       "4  0.242536  0.101548  0.174173  0.047890  0.026310      1"
      ]
     },
     "execution_count": 2,
     "metadata": {},
     "output_type": "execute_result"
    }
   ],
   "source": [
    "exam_path = \"/home/sebastian/Descargas/tesis/all.csv\"\n",
    "eeg_dataset = pd.read_csv(exam_path, error_bad_lines=False)\n",
    "eeg_dataset.head()"
   ]
  },
  {
   "cell_type": "code",
   "execution_count": 3,
   "id": "excess-bacon",
   "metadata": {},
   "outputs": [],
   "source": [
    "X = eeg_dataset.iloc[:,0:5].values\n",
    "y = eeg_dataset.iloc[:,5].values\n",
    "x_train, x_test, y_train, y_test = train_test_split(X, y, test_size=0.3, random_state=50)"
   ]
  },
  {
   "cell_type": "code",
   "execution_count": 4,
   "id": "photographic-receiver",
   "metadata": {},
   "outputs": [],
   "source": [
    "scaler = preprocessing.StandardScaler()\n",
    "x_train = scaler.fit_transform(x_train)\n",
    "x_test = scaler.transform(x_test)"
   ]
  },
  {
   "cell_type": "code",
   "execution_count": 5,
   "id": "critical-buddy",
   "metadata": {},
   "outputs": [
    {
     "data": {
      "text/plain": [
       "0.7777777777777778"
      ]
     },
     "execution_count": 5,
     "metadata": {},
     "output_type": "execute_result"
    }
   ],
   "source": [
    "no_linear_svc = svm.NuSVC(gamma=0.47)\n",
    "no_linear_svc.fit(x_train, y_train)\n",
    "score = no_linear_svc.score(x_test, y_test)\n",
    "score"
   ]
  },
  {
   "cell_type": "code",
   "execution_count": 7,
   "id": "later-apparel",
   "metadata": {},
   "outputs": [
    {
     "data": {
      "text/plain": [
       "array([[101,  30],\n",
       "       [ 26,  95]])"
      ]
     },
     "execution_count": 7,
     "metadata": {},
     "output_type": "execute_result"
    }
   ],
   "source": [
    "y_pred = no_linear_svc.predict(x_test)\n",
    "own_mets = (y_test, y_pred)\n",
    "confusion_matrix = metrics.confusion_matrix(*own_mets)\n",
    "confusion_matrix"
   ]
  },
  {
   "cell_type": "code",
   "execution_count": 8,
   "id": "acting-poster",
   "metadata": {},
   "outputs": [
    {
     "data": {
      "image/png": "[encoded data removed]",
      "text/plain": [
       "<Figure size 482.4x307.44 with 2 Axes>"
      ]
     },
     "metadata": {},
     "output_type": "display_data"
    }
   ],
   "source": [
    "sb.set(rc={'figure.figsize':(6.7,4.27)},style='whitegrid',font_scale=1.2,palette=sb.cubehelix_palette(8))\n",
    "sb.set_style({'font.family':'serif', 'font.serif':'Times New Roman'})\n",
    "columns = ['Non-epileptic','Epileptic']\n",
    "df_cm = pd.DataFrame(confusion_matrix, index=columns, columns=columns)\n",
    "\n",
    "grafica = sb.heatmap(df_cm,cmap=sb.cubehelix_palette(8),annot=True,fmt='g')\n",
    "plt.ylabel('True positives')\n",
    "plt.xlabel('Predictions')\n",
    "grafica.set(xlabel='True',ylabel='Predictions')\n",
    "plt.show()"
   ]
  },
  {
   "cell_type": "code",
   "execution_count": 9,
   "id": "super-irrigation",
   "metadata": {},
   "outputs": [],
   "source": [
    "acc = metrics.accuracy_score(*own_mets)\n",
    "recall = metrics.recall_score(*own_mets)\n",
    "f1_score = metrics.f1_score(*own_mets)\n",
    "precision = metrics.precision_score(*own_mets)"
   ]
  },
  {
   "cell_type": "code",
   "execution_count": 10,
   "id": "handled-problem",
   "metadata": {},
   "outputs": [
    {
     "name": "stdout",
     "output_type": "stream",
     "text": [
      "Accuracy: 0.7777777777777778 \n",
      "Recall: 0.7851239669421488 \n",
      "F1 Score: 0.7723577235772359 \n",
      "Precision: 0.76\n"
     ]
    }
   ],
   "source": [
    "print(f\"Accuracy: {acc} \\nRecall: {recall} \\nF1 Score: {f1_score} \\nPrecision: {precision}\")"
   ]
  }
 ],
 "metadata": {
  "kernelspec": {
   "display_name": "Python 3",
   "language": "python",
   "name": "python3"
  },
  "language_info": {
   "codemirror_mode": {
    "name": "ipython",
    "version": 3
   },
   "file_extension": ".py",
   "mimetype": "text/x-python",
   "name": "python",
   "nbconvert_exporter": "python",
   "pygments_lexer": "ipython3",
   "version": "3.8.5"
  }
 },
 "nbformat": 4,
 "nbformat_minor": 5
}
