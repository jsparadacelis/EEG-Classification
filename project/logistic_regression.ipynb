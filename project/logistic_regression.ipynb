{
 "cells": [
  {
   "cell_type": "code",
   "execution_count": 1,
   "id": "democratic-dance",
   "metadata": {},
   "outputs": [],
   "source": [
    "import numpy as np\n",
    "import pandas as pd\n",
    "import seaborn as sb\n",
    "import matplotlib.pyplot as plt\n",
    "import sklearn\n",
    "from scipy import stats"
   ]
  },
  {
   "cell_type": "code",
   "execution_count": 6,
   "id": "remarkable-imaging",
   "metadata": {},
   "outputs": [],
   "source": [
    "from pandas import Series, DataFrame\n",
    "from pylab import rcParams\n",
    "from sklearn import preprocessing\n",
    "from sklearn.linear_model import LogisticRegression, LogisticRegressionCV\n",
    "from sklearn.model_selection import train_test_split\n",
    "from sklearn import metrics \n",
    "from sklearn.metrics import classification_report, confusion_matrix"
   ]
  },
  {
   "cell_type": "code",
   "execution_count": 5,
   "id": "funded-arthur",
   "metadata": {},
   "outputs": [],
   "source": [
    "from sklearn import preprocessing, metrics"
   ]
  },
  {
   "cell_type": "code",
   "execution_count": 4,
   "id": "fixed-world",
   "metadata": {},
   "outputs": [],
   "source": [
    "exams_path = \"/home/sebastian/Descargas/tesis/all.csv\""
   ]
  },
  {
   "cell_type": "code",
   "execution_count": 7,
   "id": "fatty-discharge",
   "metadata": {},
   "outputs": [],
   "source": [
    "eeg_dataset = pd.read_csv(exams_path, error_bad_lines=False)\n",
    "X = eeg_dataset.iloc[:,0:5].values\n",
    "y = eeg_dataset.iloc[:,5].values"
   ]
  },
  {
   "cell_type": "code",
   "execution_count": 23,
   "id": "large-working",
   "metadata": {},
   "outputs": [
    {
     "data": {
      "text/html": [
       "<div>\n",
       "<style scoped>\n",
       "    .dataframe tbody tr th:only-of-type {\n",
       "        vertical-align: middle;\n",
       "    }\n",
       "\n",
       "    .dataframe tbody tr th {\n",
       "        vertical-align: top;\n",
       "    }\n",
       "\n",
       "    .dataframe thead th {\n",
       "        text-align: right;\n",
       "    }\n",
       "</style>\n",
       "<table border=\"1\" class=\"dataframe\">\n",
       "  <thead>\n",
       "    <tr style=\"text-align: right;\">\n",
       "      <th></th>\n",
       "      <th>delta</th>\n",
       "      <th>tetha</th>\n",
       "      <th>alpha</th>\n",
       "      <th>beta</th>\n",
       "      <th>gamma</th>\n",
       "      <th>class</th>\n",
       "    </tr>\n",
       "  </thead>\n",
       "  <tbody>\n",
       "    <tr>\n",
       "      <th>0</th>\n",
       "      <td>0.190776</td>\n",
       "      <td>0.058923</td>\n",
       "      <td>0.129363</td>\n",
       "      <td>0.029849</td>\n",
       "      <td>0.012989</td>\n",
       "      <td>1</td>\n",
       "    </tr>\n",
       "    <tr>\n",
       "      <th>1</th>\n",
       "      <td>0.182318</td>\n",
       "      <td>0.095967</td>\n",
       "      <td>0.110752</td>\n",
       "      <td>0.049693</td>\n",
       "      <td>0.046891</td>\n",
       "      <td>1</td>\n",
       "    </tr>\n",
       "    <tr>\n",
       "      <th>2</th>\n",
       "      <td>0.183269</td>\n",
       "      <td>0.079512</td>\n",
       "      <td>0.116541</td>\n",
       "      <td>0.048885</td>\n",
       "      <td>0.049781</td>\n",
       "      <td>1</td>\n",
       "    </tr>\n",
       "    <tr>\n",
       "      <th>3</th>\n",
       "      <td>0.351450</td>\n",
       "      <td>0.066773</td>\n",
       "      <td>0.072149</td>\n",
       "      <td>0.030012</td>\n",
       "      <td>0.021886</td>\n",
       "      <td>1</td>\n",
       "    </tr>\n",
       "    <tr>\n",
       "      <th>4</th>\n",
       "      <td>0.242536</td>\n",
       "      <td>0.101548</td>\n",
       "      <td>0.174173</td>\n",
       "      <td>0.047890</td>\n",
       "      <td>0.026310</td>\n",
       "      <td>1</td>\n",
       "    </tr>\n",
       "  </tbody>\n",
       "</table>\n",
       "</div>"
      ],
      "text/plain": [
       "      delta     tetha     alpha      beta     gamma  class\n",
       "0  0.190776  0.058923  0.129363  0.029849  0.012989      1\n",
       "1  0.182318  0.095967  0.110752  0.049693  0.046891      1\n",
       "2  0.183269  0.079512  0.116541  0.048885  0.049781      1\n",
       "3  0.351450  0.066773  0.072149  0.030012  0.021886      1\n",
       "4  0.242536  0.101548  0.174173  0.047890  0.026310      1"
      ]
     },
     "execution_count": 23,
     "metadata": {},
     "output_type": "execute_result"
    }
   ],
   "source": [
    "eeg_dataset.head()"
   ]
  },
  {
   "cell_type": "code",
   "execution_count": 8,
   "id": "communist-crisis",
   "metadata": {},
   "outputs": [],
   "source": [
    "scaler = preprocessing.KBinsDiscretizer()"
   ]
  },
  {
   "cell_type": "code",
   "execution_count": 10,
   "id": "metropolitan-pattern",
   "metadata": {},
   "outputs": [],
   "source": [
    "X_train, X_test, y_train, y_test = train_test_split(X, y, test_size=0.3, random_state=50)\n",
    "X_train = scaler.fit_transform(X_train)\n",
    "X_test = scaler.transform(X_test)"
   ]
  },
  {
   "cell_type": "code",
   "execution_count": 11,
   "id": "signal-event",
   "metadata": {},
   "outputs": [
    {
     "data": {
      "text/plain": [
       "(588, 25)"
      ]
     },
     "execution_count": 11,
     "metadata": {},
     "output_type": "execute_result"
    }
   ],
   "source": [
    "X_train.shape"
   ]
  },
  {
   "cell_type": "code",
   "execution_count": 12,
   "id": "considerable-chester",
   "metadata": {},
   "outputs": [
    {
     "data": {
      "text/plain": [
       "0.6785714285714286"
      ]
     },
     "execution_count": 12,
     "metadata": {},
     "output_type": "execute_result"
    }
   ],
   "source": [
    "classifier = LogisticRegression(random_state=0, C=10, solver='lbfgs', penalty='l2').fit(X_train,y_train)\n",
    "predicted_values = classifier.predict(X_test)\n",
    "classifier.score(X_test,y_test)"
   ]
  },
  {
   "cell_type": "code",
   "execution_count": 14,
   "id": "subtle-cincinnati",
   "metadata": {},
   "outputs": [
    {
     "data": {
      "text/plain": [
       "array([[78, 53],\n",
       "       [28, 93]])"
      ]
     },
     "execution_count": 14,
     "metadata": {},
     "output_type": "execute_result"
    }
   ],
   "source": [
    "confusion_matrix = confusion_matrix(y_test, predicted_values)\n",
    "confusion_matrix"
   ]
  },
  {
   "cell_type": "code",
   "execution_count": 21,
   "id": "hairy-blocking",
   "metadata": {
    "collapsed": true,
    "jupyter": {
     "outputs_hidden": true
    }
   },
   "outputs": [
    {
     "data": {
      "image/png": "[encoded data removed]",
      "text/plain": [
       "<Figure size 482.4x307.44 with 2 Axes>"
      ]
     },
     "metadata": {},
     "output_type": "display_data"
    }
   ],
   "source": [
    "sb.set(rc={'figure.figsize':(6.7,4.27)},style='whitegrid',font_scale=1.2,palette=sb.cubehelix_palette(8))\n",
    "sb.set_style({'font.family':'serif', 'font.serif':'Times New Roman'})\n",
    "columns = ['Non-epileptic','Epileptic']\n",
    "df_cm = pd.DataFrame(confusion_matrix, index=columns, columns=columns)\n",
    "\n",
    "grafica = sb.heatmap(df_cm,cmap=sb.cubehelix_palette(8),annot=True,fmt='g')\n",
    "plt.ylabel('True positives')\n",
    "plt.xlabel('Predictions')\n",
    "grafica.set(xlabel='True',ylabel='Predictions')\n",
    "plt.show()"
   ]
  },
  {
   "cell_type": "code",
   "execution_count": 25,
   "id": "single-performer",
   "metadata": {},
   "outputs": [],
   "source": [
    "own_mets = (y_test, predicted_values)\n",
    "acc = metrics.accuracy_score(*own_mets)\n",
    "recall = metrics.recall_score(*own_mets)\n",
    "f1_score = metrics.f1_score(*own_mets)\n",
    "precision = metrics.precision_score(*own_mets)"
   ]
  },
  {
   "cell_type": "code",
   "execution_count": 26,
   "id": "comparative-cheat",
   "metadata": {},
   "outputs": [
    {
     "name": "stdout",
     "output_type": "stream",
     "text": [
      "Accuracy: 0.6785714285714286 \n",
      "Recall: 0.768595041322314 \n",
      "F1 Score: 0.6966292134831461 \n",
      "Precision: 0.636986301369863\n"
     ]
    }
   ],
   "source": [
    "print(f\"Accuracy: {acc} \\nRecall: {recall} \\nF1 Score: {f1_score} \\nPrecision: {precision}\")"
   ]
  }
 ],
 "metadata": {
  "kernelspec": {
   "display_name": "Python 3",
   "language": "python",
   "name": "python3"
  },
  "language_info": {
   "codemirror_mode": {
    "name": "ipython",
    "version": 3
   },
   "file_extension": ".py",
   "mimetype": "text/x-python",
   "name": "python",
   "nbconvert_exporter": "python",
   "pygments_lexer": "ipython3",
   "version": "3.8.5"
  }
 },
 "nbformat": 4,
 "nbformat_minor": 5
}
